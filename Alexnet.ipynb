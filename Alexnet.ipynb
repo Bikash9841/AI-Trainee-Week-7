{
 "cells": [
  {
   "cell_type": "code",
   "execution_count": 1,
   "metadata": {},
   "outputs": [],
   "source": [
    "import torch\n",
    "from torchvision.datasets import Imagenette\n",
    "from torchvision.transforms import transforms\n",
    "import torch.nn as nn\n",
    "import matplotlib.pyplot as pyplot\n",
    "from torch.utils.data import DataLoader\n",
    "import matplotlib.pyplot as plt"
   ]
  },
  {
   "cell_type": "markdown",
   "metadata": {},
   "source": [
    "## Device Agnostic Code\n"
   ]
  },
  {
   "cell_type": "code",
   "execution_count": 2,
   "metadata": {},
   "outputs": [
    {
     "data": {
      "text/plain": [
       "'cuda'"
      ]
     },
     "execution_count": 2,
     "metadata": {},
     "output_type": "execute_result"
    }
   ],
   "source": [
    "device='cuda' if torch.cuda.is_available() else 'cpu'\n",
    "device"
   ]
  },
  {
   "cell_type": "code",
   "execution_count": 3,
   "metadata": {},
   "outputs": [],
   "source": [
    "mean=[0.485, 0.456, 0.406]\n",
    "std= [0.229, 0.224, 0.225]"
   ]
  },
  {
   "cell_type": "code",
   "execution_count": 4,
   "metadata": {},
   "outputs": [],
   "source": [
    "transform=transforms.Compose([\n",
    "    transforms.ToTensor(),\n",
    "    transforms.CenterCrop(227),\n",
    "    transforms.Normalize(mean,std)\n",
    "    ]\n",
    ")\n",
    "\n",
    "train_data=Imagenette(root='dataset/train',split='train',download=False,transform=transform)\n",
    "val_data=Imagenette(root='dataset/test',split='val',download=False,transform=transform)\n"
   ]
  },
  {
   "cell_type": "markdown",
   "metadata": {},
   "source": [
    "## Making Dataloader"
   ]
  },
  {
   "cell_type": "code",
   "execution_count": 5,
   "metadata": {},
   "outputs": [],
   "source": [
    "train_dataloader=DataLoader(train_data,batch_size=128,shuffle=True)\n",
    "val_dataloader=DataLoader(val_data,batch_size=128)"
   ]
  },
  {
   "cell_type": "markdown",
   "metadata": {},
   "source": [
    "# Building Alexnet Architecture"
   ]
  },
  {
   "cell_type": "code",
   "execution_count": 6,
   "metadata": {},
   "outputs": [],
   "source": [
    "class Alexnet(nn.Module):\n",
    "    \n",
    "    def __init__(self,in_channel=3,out_classes=10):\n",
    "        super().__init__()\n",
    "\n",
    "        self.in_channel=in_channel\n",
    "        self.out_classes=out_classes\n",
    "\n",
    "        self.model=nn.Sequential(\n",
    "\n",
    "            # conv->maxpool->conv->maxpool->3*conv->maxpool->3*fc->outputlayer\n",
    "            nn.Conv2d(self.in_channel,96,11,4),\n",
    "            nn.ReLU(),\n",
    "            nn.LocalResponseNorm(5,0.001,0.75,2),\n",
    "            nn.MaxPool2d(3,2),\n",
    "            nn.Conv2d(96,256,5,1,padding='same'),\n",
    "            nn.ReLU(),\n",
    "            nn.LocalResponseNorm(5,0.001,0.75,2),\n",
    "            nn.MaxPool2d(3,2),\n",
    "\n",
    "            nn.Conv2d(256,384,3,1,padding='same'),\n",
    "            nn.ReLU(),\n",
    "            nn.Conv2d(384,384,3,1,padding='same'),\n",
    "            nn.ReLU(),\n",
    "            nn.Conv2d(384,256,3,1,padding='same'),\n",
    "            nn.ReLU(),\n",
    "            nn.MaxPool2d(3,2),\n",
    "\n",
    "            # fully connected layer\n",
    "            nn.Flatten(start_dim=1),\n",
    "            nn.Linear(256*6*6,4096),\n",
    "            nn.Dropout(0.5),\n",
    "            nn.Linear(4096,4096),\n",
    "            nn.Dropout(0.5),\n",
    "            nn.Linear(4096,self.out_classes),        \n",
    "\n",
    "        )\n",
    "\n",
    "    def forward(self,x):\n",
    "        return self.model(x)"
   ]
  },
  {
   "cell_type": "code",
   "execution_count": 7,
   "metadata": {},
   "outputs": [
    {
     "data": {
      "text/plain": [
       "Alexnet(\n",
       "  (model): Sequential(\n",
       "    (0): Conv2d(3, 96, kernel_size=(11, 11), stride=(4, 4))\n",
       "    (1): ReLU()\n",
       "    (2): LocalResponseNorm(5, alpha=0.001, beta=0.75, k=2)\n",
       "    (3): MaxPool2d(kernel_size=3, stride=2, padding=0, dilation=1, ceil_mode=False)\n",
       "    (4): Conv2d(96, 256, kernel_size=(5, 5), stride=(1, 1), padding=same)\n",
       "    (5): ReLU()\n",
       "    (6): LocalResponseNorm(5, alpha=0.001, beta=0.75, k=2)\n",
       "    (7): MaxPool2d(kernel_size=3, stride=2, padding=0, dilation=1, ceil_mode=False)\n",
       "    (8): Conv2d(256, 384, kernel_size=(3, 3), stride=(1, 1), padding=same)\n",
       "    (9): ReLU()\n",
       "    (10): Conv2d(384, 384, kernel_size=(3, 3), stride=(1, 1), padding=same)\n",
       "    (11): ReLU()\n",
       "    (12): Conv2d(384, 256, kernel_size=(3, 3), stride=(1, 1), padding=same)\n",
       "    (13): ReLU()\n",
       "    (14): MaxPool2d(kernel_size=3, stride=2, padding=0, dilation=1, ceil_mode=False)\n",
       "    (15): Flatten(start_dim=1, end_dim=-1)\n",
       "    (16): Linear(in_features=9216, out_features=4096, bias=True)\n",
       "    (17): Dropout(p=0.5, inplace=False)\n",
       "    (18): Linear(in_features=4096, out_features=4096, bias=True)\n",
       "    (19): Dropout(p=0.5, inplace=False)\n",
       "    (20): Linear(in_features=4096, out_features=10, bias=True)\n",
       "  )\n",
       ")"
      ]
     },
     "execution_count": 7,
     "metadata": {},
     "output_type": "execute_result"
    }
   ],
   "source": [
    "alexnet=Alexnet()\n",
    "alexnet.to(device)"
   ]
  },
  {
   "cell_type": "markdown",
   "metadata": {},
   "source": [
    "## Train the Model"
   ]
  },
  {
   "cell_type": "code",
   "execution_count": null,
   "metadata": {},
   "outputs": [],
   "source": [
    "optim=torch.optim.SGD(alexnet.parameters(),lr=0.01,momentum=0.9)"
   ]
  },
  {
   "cell_type": "code",
   "execution_count": null,
   "metadata": {},
   "outputs": [],
   "source": [
    "loss_train=[]\n",
    "loss_test=[]"
   ]
  },
  {
   "cell_type": "code",
   "execution_count": null,
   "metadata": {},
   "outputs": [],
   "source": [
    "for epoch in range(10):\n",
    "    running_loss=0\n",
    "    count=0\n",
    "    train_accuracy=0\n",
    "    for idx,data in enumerate(train_dataloader):\n",
    "        count+=1\n",
    "        optim.zero_grad()\n",
    "\n",
    "        img,label=data\n",
    "        logits=alexnet(img.to(device))\n",
    "\n",
    "        loss=(torch.nn.functional.cross_entropy(logits,label.to(device)))\n",
    "\n",
    "        loss.backward()\n",
    "        optim.step()\n",
    "\n",
    "        running_loss+=loss\n",
    "        train_accuracy+=(torch.sum(torch.where(logits.argmax(1)==label.to(device), 1, 0)))/logits.shape[0]\n",
    "\n",
    "        # with torch.no_grad():\n",
    "        #   for idx,data in enumerate(test_dataloader):\n",
    "        #     img,label=data\n",
    "        #     logits=alexnet(img.to(device))\n",
    "        #     loss_test=(torch.nn.functional.cross_entropy(logits,label.to(device)))\n",
    "\n",
    "\n",
    "\n",
    "\n",
    "    loss_train.append((running_loss/count).item())\n",
    "\n",
    "\n",
    "    print(f'Epoch: {epoch} | Training Loss: {(running_loss/count).item(): .3f} | Train-Accuracy: {train_accuracy: .3f}')\n"
   ]
  },
  {
   "cell_type": "code",
   "execution_count": null,
   "metadata": {},
   "outputs": [],
   "source": [
    "plt.plot(loss_train)"
   ]
  },
  {
   "cell_type": "markdown",
   "metadata": {},
   "source": [
    "## Loading the Saved Model"
   ]
  },
  {
   "cell_type": "code",
   "execution_count": 8,
   "metadata": {},
   "outputs": [
    {
     "data": {
      "text/plain": [
       "<All keys matched successfully>"
      ]
     },
     "execution_count": 8,
     "metadata": {},
     "output_type": "execute_result"
    }
   ],
   "source": [
    "alexnet.load_state_dict(torch.load('alexnet.pt'))"
   ]
  },
  {
   "cell_type": "markdown",
   "metadata": {},
   "source": [
    "## Train Accuracy"
   ]
  },
  {
   "cell_type": "code",
   "execution_count": null,
   "metadata": {},
   "outputs": [],
   "source": [
    "# for idx,data in enumerate(train_dataloader):\n",
    "#     count+=1\n",
    "#     optim.zero_grad()\n",
    "\n",
    "#     img,label=data\n",
    "#     logits=alexnet(img.to(device))\n",
    "\n",
    "#     loss=(torch.nn.functional.cross_entropy(logits,label.to(device)))\n",
    "\n",
    "#     loss.backward()\n",
    "#     optim.step()\n",
    "\n",
    "#     running_loss+=loss\n",
    "#     train_accuracy+=(torch.sum(torch.where(logits.argmax(1)==label.to(device), 1, 0)))/logits.shape[0]"
   ]
  },
  {
   "cell_type": "code",
   "execution_count": 12,
   "metadata": {},
   "outputs": [],
   "source": [
    "for params in alexnet.parameters():\n",
    "    params.requires_grad=False\n",
    "\n",
    "\n",
    "alexnet.model[20]=nn.Linear(in_features=4096,out_features=2)\n"
   ]
  },
  {
   "cell_type": "code",
   "execution_count": 15,
   "metadata": {},
   "outputs": [
    {
     "data": {
      "text/plain": [
       "OrderedDict()"
      ]
     },
     "execution_count": 15,
     "metadata": {},
     "output_type": "execute_result"
    }
   ],
   "source": []
  }
 ],
 "metadata": {
  "kernelspec": {
   "display_name": "bajra",
   "language": "python",
   "name": "python3"
  },
  "language_info": {
   "codemirror_mode": {
    "name": "ipython",
    "version": 3
   },
   "file_extension": ".py",
   "mimetype": "text/x-python",
   "name": "python",
   "nbconvert_exporter": "python",
   "pygments_lexer": "ipython3",
   "version": "3.12.3"
  }
 },
 "nbformat": 4,
 "nbformat_minor": 2
}
